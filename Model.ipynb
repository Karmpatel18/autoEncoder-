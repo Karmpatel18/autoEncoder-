{
 "cells": [
  {
   "cell_type": "code",
   "execution_count": 4,
   "id": "5e18f8a1",
   "metadata": {},
   "outputs": [],
   "source": [
    "import torch\n",
    "import torch.nn as nn\n",
    "import torch.optim as optim\n",
    "from torchvision import datasets, transforms\n",
    "import matplotlib.pyplot as plt \n",
    "from tqdm import tqdm\n",
    "import math"
   ]
  },
  {
   "cell_type": "code",
   "execution_count": 21,
   "id": "e2f42dba",
   "metadata": {},
   "outputs": [],
   "source": [
    "transform = transforms.ToTensor()\n",
    "mnist_data = datasets.MNIST(root='./data', train=True, download = True, transform = transform)\n",
    "data_loader = torch.utils.data.DataLoader(dataset=mnist_data, batch_size=64, shuffle=True)"
   ]
  },
  {
   "cell_type": "code",
   "execution_count": 24,
   "id": "a75f71f2",
   "metadata": {},
   "outputs": [
    {
     "data": {
      "text/plain": [
       "Dataset MNIST\n",
       "    Number of datapoints: 60000\n",
       "    Root location: ./data\n",
       "    Split: Train\n",
       "    StandardTransform\n",
       "Transform: ToTensor()"
      ]
     },
     "execution_count": 24,
     "metadata": {},
     "output_type": "execute_result"
    }
   ],
   "source": [
    "data_loader.dataset"
   ]
  },
  {
   "cell_type": "code",
   "execution_count": null,
   "id": "169d114c",
   "metadata": {},
   "outputs": [],
   "source": [
    "#custom linear layer \n",
    "class CustomLinearLayer(nn.Module):\n",
    "    def __init__(self, in_features: int, out_features: int, bias: bool=True):\n",
    "        super().__init__() #calls the constructor of the parent class \n",
    "        self.in_features = in_features\n",
    "        self.out_features = out_features\n",
    "        self.weight = nn.Parameter(torch.empty(out_features, in_features))\n",
    "        #wraps this tensor so that PyTorch knows it should be a learnable parameter \n",
    "        if bias:\n",
    "            self.bias = nn.Parameter(torch.empty(out_features))\n",
    "        else:\n",
    "            self.register_parameter('bias', None)\n",
    "        self.reset_parameters()\n",
    "    def reset_parameters(self):\n",
    "        \n",
    "        fan_in = self.in_features\n",
    "        fan_out = self.out_features\n",
    "        limit = math.sqrt(6.0 / (fan_in + fan_out))\n",
    "        with torch.no_grad():\n",
    "            self.weight.uniform_(-limit, limit)\n",
    "            if self.bias is not None:\n",
    "                self.bias.zero_()    \n",
    "    def forward(self, x: torch.Tensor) -> torch.Tensor:\n",
    "        \n",
    "        out = x.matmul(self.weight.t())\n",
    "        if self.bias is not None:\n",
    "            out = out + self.bias\n",
    "        return out    \n",
    "        "
   ]
  },
  {
   "cell_type": "code",
   "execution_count": null,
   "id": "91770f62",
   "metadata": {},
   "outputs": [],
   "source": [
    "class CustomReLU(nn.Module):\n",
    "    def __init__(self, inplace: bool = False):\n",
    "        super().__init__()\n",
    "        self.inplace = inplace\n",
    "\n",
    "    def forward(self, x: torch.Tensor) -> torch.Tensor:\n",
    "        if self.inplace:\n",
    "            x[:] = torch.where(x > 0, x, torch.zeros_like(x))\n",
    "            return x\n",
    "        return torch.where(x > 0, x, torch.zeros_like(x))\n",
    "\n",
    "class CustomSigmoid(nn.Module):\n",
    "    def forward(self, x: torch.Tensor) -> torch.Tensor:\n",
    "        return 1.0 / (1.0 + torch.exp(-x))    "
   ]
  },
  {
   "cell_type": "code",
   "execution_count": null,
   "id": "8e072ae5",
   "metadata": {},
   "outputs": [],
   "source": [
    "    "
   ]
  },
  {
   "cell_type": "code",
   "execution_count": null,
   "id": "734aa394",
   "metadata": {},
   "outputs": [],
   "source": [
    "    "
   ]
  },
  {
   "cell_type": "code",
   "execution_count": null,
   "id": "fbe44f2c",
   "metadata": {},
   "outputs": [],
   "source": [
    "\n"
   ]
  }
 ],
 "metadata": {
  "kernelspec": {
   "display_name": "autoenc",
   "language": "python",
   "name": "python3"
  },
  "language_info": {
   "codemirror_mode": {
    "name": "ipython",
    "version": 3
   },
   "file_extension": ".py",
   "mimetype": "text/x-python",
   "name": "python",
   "nbconvert_exporter": "python",
   "pygments_lexer": "ipython3",
   "version": "3.12.10"
  }
 },
 "nbformat": 4,
 "nbformat_minor": 5
}
