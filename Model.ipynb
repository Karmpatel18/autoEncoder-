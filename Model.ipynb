{
 "cells": [
  {
   "cell_type": "code",
   "execution_count": 1,
   "id": "5e18f8a1",
   "metadata": {},
   "outputs": [],
   "source": [
    "#step:1 all required imports \n",
    "import torch\n",
    "import torch.nn as nn\n",
    "import torch.optim as optim\n",
    "from torchvision import datasets, transforms\n",
    "import matplotlib.pyplot as plt \n",
    "from tqdm import tqdm\n",
    "import math\n",
    "from torch.utils.data import DataLoader"
   ]
  },
  {
   "cell_type": "code",
   "execution_count": 2,
   "id": "169d114c",
   "metadata": {},
   "outputs": [],
   "source": [
    "#custom linear layer \n",
    "class CustomLinearLayer(nn.Module):\n",
    "    def __init__(self, in_features: int, out_features: int, bias: bool=True):\n",
    "        super().__init__() #calls the constructor of the parent class \n",
    "        self.in_features = in_features\n",
    "        self.out_features = out_features\n",
    "        self.weight = nn.Parameter(torch.empty(out_features, in_features))\n",
    "        #wraps this tensor so that PyTorch knows it should be a learnable parameter \n",
    "        if bias:\n",
    "            self.bias = nn.Parameter(torch.empty(out_features))\n",
    "        else:\n",
    "            self.register_parameter('bias', None)\n",
    "        self.reset_parameters()\n",
    "    def reset_parameters(self):\n",
    "        fan_in = self.in_features\n",
    "        fan_out = self.out_features\n",
    "        limit = math.sqrt(6.0 / (fan_in + fan_out))\n",
    "        with torch.no_grad():\n",
    "            self.weight.uniform_(-limit, limit)\n",
    "            if self.bias is not None:\n",
    "                self.bias.zero_()    \n",
    "    def forward(self, x: torch.Tensor) -> torch.Tensor:\n",
    "        \n",
    "        out = x.matmul(self.weight.t())\n",
    "        if self.bias is not None:\n",
    "            out = out + self.bias\n",
    "        return out    \n",
    "        "
   ]
  },
  {
   "cell_type": "code",
   "execution_count": null,
   "id": "91770f62",
   "metadata": {},
   "outputs": [],
   "source": [
    "#Custom activation methods: \n",
    "class CustomReLU(nn.Module):\n",
    "    def __init__(self, inplace: bool = False):\n",
    "        super().__init__()\n",
    "        self.inplace = inplace\n",
    "\n",
    "    def forward(self, x: torch.Tensor) -> torch.Tensor:\n",
    "        if self.inplace:\n",
    "            x[:] = torch.where(x > 0, x, torch.zeros_like(x))\n",
    "            return x\n",
    "        return torch.where(x > 0, x, torch.zeros_like(x))\n",
    "\n",
    "class CustomSigmoid(nn.Module):\n",
    "    def forward(self, x: torch.Tensor) -> torch.Tensor:\n",
    "        return 1.0 / (1.0 + torch.exp(-x))    "
   ]
  },
  {
   "cell_type": "code",
   "execution_count": null,
   "id": "8e072ae5",
   "metadata": {},
   "outputs": [],
   "source": [
    "class Autoencoder(nn.Module):\n",
    "    def __init__(self, input_dim=784, bottleneck_dim=32):\n",
    "        \"\"\"\n",
    "        input_dim: 28*28 = 784\n",
    "        bottleneck_dim: compressed vector size (<64). i have choosen 32.\n",
    "        \"\"\"\n",
    "        super().__init__()\n",
    "        self.input_dim = input_dim\n",
    "        self.bottleneck_dim = bottleneck_dim\n",
    "\n",
    "        #Encoding Layer: \n",
    "        self.encoder_fc1 = CustomLinearLayer(input_dim, 256)\n",
    "        self.encoder_act1 = CustomReLU()\n",
    "        self.encoder_fc2 = CustomLinearLayer(256, 64)\n",
    "        self.encoder_act2 = CustomReLU()\n",
    "        self.encoder_fc3 = CustomLinearLayer(64, bottleneck_dim)  \n",
    "\n",
    "        #Decoding Layer \n",
    "        self.decoder_fc1 = CustomLinearLayer(bottleneck_dim, 64)\n",
    "        self.decoder_act1 = CustomReLU()\n",
    "        self.decoder_fc2 = CustomLinearLayer(64, 256)\n",
    "        self.decoder_act2 = CustomReLU()\n",
    "        self.decoder_fc3 = CustomLinearLayer(256, input_dim)\n",
    "        self.decoder_act3 = CustomSigmoid()  #output between 0 and 1 to match input (images normalized to [0,1])\n",
    "\n",
    "    def encode(self, x: torch.Tensor) -> torch.Tensor:\n",
    "        x = self.encoder_fc1(x)\n",
    "        x = self.encoder_act1(x)\n",
    "        x = self.encoder_fc2(x)\n",
    "        x = self.encoder_act2(x)\n",
    "        x = self.encoder_fc3(x)\n",
    "        #Unbounded bottleneck\n",
    "        # x = self.encoder_act3(x)\n",
    "        return x\n",
    "\n",
    "    def decode(self, z: torch.Tensor) -> torch.Tensor:\n",
    "        z = self.decoder_fc1(z)\n",
    "        z = self.decoder_act1(z)\n",
    "        z = self.decoder_fc2(z)\n",
    "        z = self.decoder_act2(z)\n",
    "        z = self.decoder_fc3(z)\n",
    "        z = self.decoder_act3(z)  # outputs in (0,1)\n",
    "        return z\n",
    "\n",
    "    def forward(self, x: torch.Tensor) -> torch.Tensor:\n",
    "        z = self.encode(x)\n",
    "        recon = self.decode(z)\n",
    "        return recon"
   ]
  },
  {
   "cell_type": "code",
   "execution_count": 5,
   "id": "734aa394",
   "metadata": {},
   "outputs": [],
   "source": [
    "def train_autoencoder(\n",
    "    model,\n",
    "    dataloader,\n",
    "    epochs=10,\n",
    "    lr=1e-3,\n",
    "    device='gpu',\n",
    "    validate_loader=None\n",
    "):\n",
    "    model.to(device)\n",
    "    optimizer = optim.Adam(model.parameters(), lr=lr)\n",
    "    criterion = nn.MSELoss()\n",
    "\n",
    "    for epoch in range(1, epochs+1):\n",
    "        model.train()\n",
    "        running_loss = 0.0\n",
    "        pbar = tqdm(dataloader, desc=f\"Epoch {epoch}/{epochs}\", leave=False)\n",
    "        for imgs, _ in pbar:\n",
    "            imgs = imgs.to(device)\n",
    "            # flatten\n",
    "            imgs_flat = imgs.view(imgs.size(0), -1)\n",
    "            optimizer.zero_grad()\n",
    "            recon = model(imgs_flat)\n",
    "            loss = criterion(recon, imgs_flat)\n",
    "            loss.backward()\n",
    "            optimizer.step()\n",
    "            running_loss += loss.item() * imgs.size(0)\n",
    "        epoch_loss = running_loss / len(dataloader.dataset)\n",
    "        # validation\n",
    "        val_loss = None\n",
    "        if validate_loader is not None:\n",
    "            model.eval()\n",
    "            val_running = 0.0\n",
    "            with torch.no_grad():\n",
    "                for vimgs, _ in validate_loader:\n",
    "                    vimgs = vimgs.to(device)\n",
    "                    vimgs_flat = vimgs.view(vimgs.size(0), -1)\n",
    "                    vrecon = model(vimgs_flat)\n",
    "                    vloss = criterion(vrecon, vimgs_flat)\n",
    "                    val_running += vloss.item() * vimgs.size(0)\n",
    "            val_loss = val_running / len(validate_loader.dataset)\n",
    "        # print\n",
    "        if val_loss is not None:\n",
    "            print(f\"Epoch {epoch:02d}: Train Loss={epoch_loss:.6f} | Val Loss={val_loss:.6f}\")\n",
    "        else:\n",
    "            print(f\"Epoch {epoch:02d}: Train Loss={epoch_loss:.6f}\")\n",
    "\n",
    "    return model\n",
    "    "
   ]
  },
  {
   "cell_type": "code",
   "execution_count": null,
   "id": "fbe44f2c",
   "metadata": {},
   "outputs": [
    {
     "name": "stdout",
     "output_type": "stream",
     "text": [
      "Using device: cpu\n",
      "Model created with bottleneck size = 32\n"
     ]
    },
    {
     "name": "stderr",
     "output_type": "stream",
     "text": [
      "Epoch 1/12:   0%|          | 0/469 [00:00<?, ?it/s]c:\\Users\\karmp\\OneDrive\\Desktop\\python\\models\\autoEncoder\\autoenc\\Lib\\site-packages\\torch\\utils\\data\\dataloader.py:666: UserWarning: 'pin_memory' argument is set as true but no accelerator is found, then device pinned memory won't be used.\n",
      "  warnings.warn(warn_msg)\n",
      "                                                             \r"
     ]
    },
    {
     "name": "stdout",
     "output_type": "stream",
     "text": [
      "Epoch 01: Train Loss=0.038503 | Val Loss=0.019559\n"
     ]
    },
    {
     "name": "stderr",
     "output_type": "stream",
     "text": [
      "                                                             \r"
     ]
    },
    {
     "name": "stdout",
     "output_type": "stream",
     "text": [
      "Epoch 02: Train Loss=0.017056 | Val Loss=0.014540\n"
     ]
    },
    {
     "name": "stderr",
     "output_type": "stream",
     "text": [
      "                                                             \r"
     ]
    },
    {
     "name": "stdout",
     "output_type": "stream",
     "text": [
      "Epoch 03: Train Loss=0.013683 | Val Loss=0.012267\n"
     ]
    },
    {
     "name": "stderr",
     "output_type": "stream",
     "text": [
      "                                                             \r"
     ]
    },
    {
     "name": "stdout",
     "output_type": "stream",
     "text": [
      "Epoch 04: Train Loss=0.011860 | Val Loss=0.010932\n"
     ]
    },
    {
     "name": "stderr",
     "output_type": "stream",
     "text": [
      "                                                             \r"
     ]
    },
    {
     "name": "stdout",
     "output_type": "stream",
     "text": [
      "Epoch 05: Train Loss=0.010629 | Val Loss=0.009820\n"
     ]
    },
    {
     "name": "stderr",
     "output_type": "stream",
     "text": [
      "                                                             \r"
     ]
    },
    {
     "name": "stdout",
     "output_type": "stream",
     "text": [
      "Epoch 06: Train Loss=0.009670 | Val Loss=0.009108\n"
     ]
    },
    {
     "name": "stderr",
     "output_type": "stream",
     "text": [
      "                                                             \r"
     ]
    },
    {
     "name": "stdout",
     "output_type": "stream",
     "text": [
      "Epoch 07: Train Loss=0.009012 | Val Loss=0.008501\n"
     ]
    },
    {
     "name": "stderr",
     "output_type": "stream",
     "text": [
      "                                                             \r"
     ]
    },
    {
     "name": "stdout",
     "output_type": "stream",
     "text": [
      "Epoch 08: Train Loss=0.008493 | Val Loss=0.008224\n"
     ]
    },
    {
     "name": "stderr",
     "output_type": "stream",
     "text": [
      "                                                             \r"
     ]
    },
    {
     "name": "stdout",
     "output_type": "stream",
     "text": [
      "Epoch 09: Train Loss=0.008077 | Val Loss=0.007704\n"
     ]
    },
    {
     "name": "stderr",
     "output_type": "stream",
     "text": [
      "                                                              \r"
     ]
    },
    {
     "name": "stdout",
     "output_type": "stream",
     "text": [
      "Epoch 10: Train Loss=0.007721 | Val Loss=0.007577\n"
     ]
    },
    {
     "name": "stderr",
     "output_type": "stream",
     "text": [
      "                                                              \r"
     ]
    },
    {
     "name": "stdout",
     "output_type": "stream",
     "text": [
      "Epoch 11: Train Loss=0.007412 | Val Loss=0.007289\n"
     ]
    },
    {
     "name": "stderr",
     "output_type": "stream",
     "text": [
      "                                                              \r"
     ]
    },
    {
     "name": "stdout",
     "output_type": "stream",
     "text": [
      "Epoch 12: Train Loss=0.007152 | Val Loss=0.007015\n"
     ]
    },
    {
     "data": {
      "image/png": "[encoded data removed]",
      "text/plain": [
       "<Figure size 1440x400 with 16 Axes>"
      ]
     },
     "metadata": {},
     "output_type": "display_data"
    }
   ],
   "source": [
    "def show_reconstructions(model, dataloader, device='cpu', num_images=8):\n",
    "    model.to(device)\n",
    "    model.eval()\n",
    "    imgs, _ = next(iter(dataloader))\n",
    "    imgs = imgs[:num_images].to(device)\n",
    "    with torch.no_grad():\n",
    "        flat = imgs.view(imgs.size(0), -1)\n",
    "        recon = model(flat)\n",
    "        recon_imgs = recon.view(-1, 1, 28, 28).cpu()\n",
    "\n",
    "    imgs = imgs.cpu()\n",
    "    # plot\n",
    "    n = imgs.size(0)\n",
    "    plt.figure(figsize=(n*1.8, 4))\n",
    "    for i in range(n):\n",
    "        # original\n",
    "        plt.subplot(2, n, i+1)\n",
    "        plt.axis('off')\n",
    "        plt.title(\"orig\")\n",
    "        plt.imshow(imgs[i].squeeze(), cmap='gray')\n",
    "        # recon\n",
    "        plt.subplot(2, n, n + i + 1)\n",
    "        plt.axis('off')\n",
    "        plt.title(\"recon\")\n",
    "        plt.imshow(recon_imgs[i].squeeze(), cmap='gray')\n",
    "    plt.show()\n",
    "\n",
    "\n",
    "if __name__ == \"__main__\":\n",
    "    #Hyperparams \n",
    "    BATCH_SIZE = 128\n",
    "    EPOCHS = 12\n",
    "    LR = 1e-3\n",
    "    BOTTLENECK_DIM = 32   \n",
    "\n",
    "    device = torch.device(\"cuda\" if torch.cuda.is_available() else \"cpu\")\n",
    "    print(\"Using device:\", device)\n",
    "\n",
    "    \n",
    "    transform = transforms.Compose([\n",
    "        transforms.ToTensor(),\n",
    "    ])\n",
    "    train_dataset = datasets.MNIST(root=\"./data\", train=True, download=True, transform=transform)\n",
    "    test_dataset = datasets.MNIST(root=\"./data\", train=False, download=True, transform=transform)\n",
    "    train_loader = DataLoader(train_dataset, batch_size=BATCH_SIZE, shuffle=True, num_workers=2, pin_memory=True)\n",
    "    test_loader = DataLoader(test_dataset, batch_size=BATCH_SIZE, shuffle=False, num_workers=2, pin_memory=True)\n",
    "\n",
    "    \n",
    "    model = Autoencoder(input_dim=28*28, bottleneck_dim=BOTTLENECK_DIM)\n",
    "    print(\"Model created with bottleneck size =\", BOTTLENECK_DIM)\n",
    "\n",
    "    #Train step\n",
    "    model = train_autoencoder(model, train_loader, epochs=EPOCHS, lr=LR, device=device, validate_loader=test_loader)\n",
    "\n",
    "    # Visualization step\n",
    "    show_reconstructions(model, test_loader, device=device, num_images=8)\n"
   ]
  }
 ],
 "metadata": {
  "kernelspec": {
   "display_name": "autoenc",
   "language": "python",
   "name": "python3"
  },
  "language_info": {
   "codemirror_mode": {
    "name": "ipython",
    "version": 3
   },
   "file_extension": ".py",
   "mimetype": "text/x-python",
   "name": "python",
   "nbconvert_exporter": "python",
   "pygments_lexer": "ipython3",
   "version": "3.12.10"
  }
 },
 "nbformat": 4,
 "nbformat_minor": 5
}
